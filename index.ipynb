{
 "cells": [
  {
   "cell_type": "markdown",
   "metadata": {},
   "source": [
    "# Ridge and Lasso Regression - Lab"
   ]
  },
  {
   "cell_type": "markdown",
   "metadata": {},
   "source": [
    "## Introduction"
   ]
  },
  {
   "cell_type": "markdown",
   "metadata": {},
   "source": [
    "In this lab, you'll practice your knowledge on Ridge and Lasso regression!"
   ]
  },
  {
   "cell_type": "markdown",
   "metadata": {},
   "source": [
    "## Objectives"
   ]
  },
  {
   "cell_type": "markdown",
   "metadata": {},
   "source": [
    "You will be able to:"
   ]
  },
  {
   "cell_type": "markdown",
   "metadata": {},
   "source": [
    "- Use Lasso and ridge regression in Python\n",
    "- Compare Lasso and Ridge with standard regression"
   ]
  },
  {
   "cell_type": "markdown",
   "metadata": {},
   "source": [
    "## Housing Prices Data"
   ]
  },
  {
   "cell_type": "markdown",
   "metadata": {},
   "source": [
    "Let's look at yet another house pricing data set."
   ]
  },
  {
   "cell_type": "code",
   "execution_count": 1,
   "metadata": {},
   "outputs": [],
   "source": [
    "import pandas as pd\n",
    "import warnings\n",
    "warnings.filterwarnings('ignore')\n",
    "\n",
    "df = pd.read_csv('Housing_Prices/train.csv')"
   ]
  },
  {
   "cell_type": "markdown",
   "metadata": {},
   "source": [
    "Look at df.info"
   ]
  },
  {
   "cell_type": "code",
   "execution_count": 2,
   "metadata": {},
   "outputs": [
    {
     "name": "stdout",
     "output_type": "stream",
     "text": [
      "<class 'pandas.core.frame.DataFrame'>\n",
      "RangeIndex: 1460 entries, 0 to 1459\n",
      "Data columns (total 81 columns):\n",
      "Id               1460 non-null int64\n",
      "MSSubClass       1460 non-null int64\n",
      "MSZoning         1460 non-null object\n",
      "LotFrontage      1201 non-null float64\n",
      "LotArea          1460 non-null int64\n",
      "Street           1460 non-null object\n",
      "Alley            91 non-null object\n",
      "LotShape         1460 non-null object\n",
      "LandContour      1460 non-null object\n",
      "Utilities        1460 non-null object\n",
      "LotConfig        1460 non-null object\n",
      "LandSlope        1460 non-null object\n",
      "Neighborhood     1460 non-null object\n",
      "Condition1       1460 non-null object\n",
      "Condition2       1460 non-null object\n",
      "BldgType         1460 non-null object\n",
      "HouseStyle       1460 non-null object\n",
      "OverallQual      1460 non-null int64\n",
      "OverallCond      1460 non-null int64\n",
      "YearBuilt        1460 non-null int64\n",
      "YearRemodAdd     1460 non-null int64\n",
      "RoofStyle        1460 non-null object\n",
      "RoofMatl         1460 non-null object\n",
      "Exterior1st      1460 non-null object\n",
      "Exterior2nd      1460 non-null object\n",
      "MasVnrType       1452 non-null object\n",
      "MasVnrArea       1452 non-null float64\n",
      "ExterQual        1460 non-null object\n",
      "ExterCond        1460 non-null object\n",
      "Foundation       1460 non-null object\n",
      "BsmtQual         1423 non-null object\n",
      "BsmtCond         1423 non-null object\n",
      "BsmtExposure     1422 non-null object\n",
      "BsmtFinType1     1423 non-null object\n",
      "BsmtFinSF1       1460 non-null int64\n",
      "BsmtFinType2     1422 non-null object\n",
      "BsmtFinSF2       1460 non-null int64\n",
      "BsmtUnfSF        1460 non-null int64\n",
      "TotalBsmtSF      1460 non-null int64\n",
      "Heating          1460 non-null object\n",
      "HeatingQC        1460 non-null object\n",
      "CentralAir       1460 non-null object\n",
      "Electrical       1459 non-null object\n",
      "1stFlrSF         1460 non-null int64\n",
      "2ndFlrSF         1460 non-null int64\n",
      "LowQualFinSF     1460 non-null int64\n",
      "GrLivArea        1460 non-null int64\n",
      "BsmtFullBath     1460 non-null int64\n",
      "BsmtHalfBath     1460 non-null int64\n",
      "FullBath         1460 non-null int64\n",
      "HalfBath         1460 non-null int64\n",
      "BedroomAbvGr     1460 non-null int64\n",
      "KitchenAbvGr     1460 non-null int64\n",
      "KitchenQual      1460 non-null object\n",
      "TotRmsAbvGrd     1460 non-null int64\n",
      "Functional       1460 non-null object\n",
      "Fireplaces       1460 non-null int64\n",
      "FireplaceQu      770 non-null object\n",
      "GarageType       1379 non-null object\n",
      "GarageYrBlt      1379 non-null float64\n",
      "GarageFinish     1379 non-null object\n",
      "GarageCars       1460 non-null int64\n",
      "GarageArea       1460 non-null int64\n",
      "GarageQual       1379 non-null object\n",
      "GarageCond       1379 non-null object\n",
      "PavedDrive       1460 non-null object\n",
      "WoodDeckSF       1460 non-null int64\n",
      "OpenPorchSF      1460 non-null int64\n",
      "EnclosedPorch    1460 non-null int64\n",
      "3SsnPorch        1460 non-null int64\n",
      "ScreenPorch      1460 non-null int64\n",
      "PoolArea         1460 non-null int64\n",
      "PoolQC           7 non-null object\n",
      "Fence            281 non-null object\n",
      "MiscFeature      54 non-null object\n",
      "MiscVal          1460 non-null int64\n",
      "MoSold           1460 non-null int64\n",
      "YrSold           1460 non-null int64\n",
      "SaleType         1460 non-null object\n",
      "SaleCondition    1460 non-null object\n",
      "SalePrice        1460 non-null int64\n",
      "dtypes: float64(3), int64(35), object(43)\n",
      "memory usage: 924.0+ KB\n"
     ]
    }
   ],
   "source": [
    "df.info()"
   ]
  },
  {
   "cell_type": "markdown",
   "metadata": {},
   "source": [
    "We'll make a first selection of the data by removing some of the data with `dtype = object`, this way our first model only contains **continuous features**\n",
    "\n",
    "Make sure to remove the SalesPrice column from the predictors (which you store in `X`), then replace missing inputs by the median per feature.\n",
    "\n",
    "Store the target in `y`."
   ]
  },
  {
   "cell_type": "code",
   "execution_count": 11,
   "metadata": {},
   "outputs": [],
   "source": [
    "# Load necessary packages\n",
    "from sklearn.model_selection import train_test_split\n",
    "from sklearn.linear_model import LinearRegression\n",
    "import numpy as np\n",
    "import matplotlib.pyplot as plt\n",
    "%matplotlib inline\n",
    "\n",
    "\n",
    "# remove \"object\"-type features and SalesPrice from `X`\n",
    "features=[]\n",
    "for col in df.columns:\n",
    "    if df[col].dtype!=object:\n",
    "        features.append(col)\n",
    "X=df[features].drop(columns='SalePrice')\n",
    "# Impute null values\n",
    "for col in X.columns:\n",
    "    median=np.median(X[col])\n",
    "    X.fillna(median,inplace=True)\n",
    "\n",
    "# Create y\n",
    "y=df['SalePrice']\n"
   ]
  },
  {
   "cell_type": "markdown",
   "metadata": {},
   "source": [
    "Look at the information of `X` again"
   ]
  },
  {
   "cell_type": "code",
   "execution_count": 12,
   "metadata": {},
   "outputs": [
    {
     "name": "stdout",
     "output_type": "stream",
     "text": [
      "<class 'pandas.core.frame.DataFrame'>\n",
      "RangeIndex: 1460 entries, 0 to 1459\n",
      "Data columns (total 37 columns):\n",
      "Id               1460 non-null int64\n",
      "MSSubClass       1460 non-null int64\n",
      "LotFrontage      1460 non-null float64\n",
      "LotArea          1460 non-null int64\n",
      "OverallQual      1460 non-null int64\n",
      "OverallCond      1460 non-null int64\n",
      "YearBuilt        1460 non-null int64\n",
      "YearRemodAdd     1460 non-null int64\n",
      "MasVnrArea       1460 non-null float64\n",
      "BsmtFinSF1       1460 non-null int64\n",
      "BsmtFinSF2       1460 non-null int64\n",
      "BsmtUnfSF        1460 non-null int64\n",
      "TotalBsmtSF      1460 non-null int64\n",
      "1stFlrSF         1460 non-null int64\n",
      "2ndFlrSF         1460 non-null int64\n",
      "LowQualFinSF     1460 non-null int64\n",
      "GrLivArea        1460 non-null int64\n",
      "BsmtFullBath     1460 non-null int64\n",
      "BsmtHalfBath     1460 non-null int64\n",
      "FullBath         1460 non-null int64\n",
      "HalfBath         1460 non-null int64\n",
      "BedroomAbvGr     1460 non-null int64\n",
      "KitchenAbvGr     1460 non-null int64\n",
      "TotRmsAbvGrd     1460 non-null int64\n",
      "Fireplaces       1460 non-null int64\n",
      "GarageYrBlt      1460 non-null float64\n",
      "GarageCars       1460 non-null int64\n",
      "GarageArea       1460 non-null int64\n",
      "WoodDeckSF       1460 non-null int64\n",
      "OpenPorchSF      1460 non-null int64\n",
      "EnclosedPorch    1460 non-null int64\n",
      "3SsnPorch        1460 non-null int64\n",
      "ScreenPorch      1460 non-null int64\n",
      "PoolArea         1460 non-null int64\n",
      "MiscVal          1460 non-null int64\n",
      "MoSold           1460 non-null int64\n",
      "YrSold           1460 non-null int64\n",
      "dtypes: float64(3), int64(34)\n",
      "memory usage: 422.1 KB\n"
     ]
    }
   ],
   "source": [
    "X.info()"
   ]
  },
  {
   "cell_type": "markdown",
   "metadata": {},
   "source": [
    "## Let's use this data to perform a first naive linear regression model"
   ]
  },
  {
   "cell_type": "markdown",
   "metadata": {},
   "source": [
    "Compute the R squared and the MSE for both train and test set."
   ]
  },
  {
   "cell_type": "code",
   "execution_count": 13,
   "metadata": {},
   "outputs": [],
   "source": [
    "from sklearn.metrics import mean_squared_error, mean_squared_log_error\n",
    "\n",
    "# Split in train and test\n",
    "X_train, X_test, y_train, y_test = train_test_split(X,y)\n",
    "\n",
    "# Fit the model and print R2 and MSE for train and test\n",
    "linreg=LinearRegression()\n",
    "linreg.fit(X_train,y_train)\n",
    "y_hat_train=linreg.predict(X_train)\n",
    "y_hat_test=linreg.predict(X_test)\n",
    "\n"
   ]
  },
  {
   "cell_type": "code",
   "execution_count": 14,
   "metadata": {},
   "outputs": [
    {
     "name": "stdout",
     "output_type": "stream",
     "text": [
      "train r2: 0.8414419133493232 train MSE: 980395644.7599072\n",
      "test r2: 0.690447398762667 test MSE: 2061518878.1203516\n"
     ]
    }
   ],
   "source": [
    "mse_train=mean_squared_error(y_train,y_hat_train)\n",
    "mse_test=mean_squared_error(y_test,y_hat_test)\n",
    "r2_train= linreg.score(X_train,y_train)\n",
    "r2_test=linreg.score(X_test,y_test)\n",
    "\n",
    "print(f'train r2: {r2_train} train MSE: {mse_train}')\n",
    "print(f'test r2: {r2_test} test MSE: {mse_test}')"
   ]
  },
  {
   "cell_type": "markdown",
   "metadata": {},
   "source": [
    "## Normalize your data"
   ]
  },
  {
   "cell_type": "markdown",
   "metadata": {},
   "source": [
    "We haven't normalized our data, let's create a new model that uses `preprocessing.scale` to scale our predictors!"
   ]
  },
  {
   "cell_type": "code",
   "execution_count": 15,
   "metadata": {},
   "outputs": [],
   "source": [
    "from sklearn import preprocessing\n",
    "\n",
    "# Scale the data and perform train test split\n",
    "X_scale=preprocessing.scale(X)\n",
    "\n"
   ]
  },
  {
   "cell_type": "markdown",
   "metadata": {},
   "source": [
    "Perform the same linear regression on this data and print out R-squared and MSE."
   ]
  },
  {
   "cell_type": "code",
   "execution_count": 20,
   "metadata": {},
   "outputs": [
    {
     "name": "stdout",
     "output_type": "stream",
     "text": [
      "train_scale r2: 0.8510100255051221 train MSE: 871400286.8343427\n",
      "test_scale r2: 0.708238420242603 test MSE: 2239717598.811133\n"
     ]
    }
   ],
   "source": [
    "# Your code here\n",
    "X_train_scale, X_test_scale, y_train_scale, y_test_scale = train_test_split(X,y)\n",
    "\n",
    "# Fit the model and print R2 and MSE for train and test\n",
    "linreg_scale=LinearRegression()\n",
    "linreg_scale.fit(X_train_scale,y_train_scale)\n",
    "y_hat_train_scale=linreg_scale.predict(X_train_scale)\n",
    "y_hat_test_scale=linreg_scale.predict(X_test_scale)\n",
    "\n",
    "mse_train_scale=mean_squared_error(y_train_scale,y_hat_train_scale)\n",
    "mse_test_scale=mean_squared_error(y_test_scale,y_hat_test_scale)\n",
    "r2_train_scale= linreg_scale.score(X_train_scale,y_train_scale)\n",
    "r2_test_scale=linreg_scale.score(X_test_scale,y_test_scale)\n",
    "\n",
    "print(f'train_scale r2: {r2_train_scale} train MSE: {mse_train_scale}')\n",
    "print(f'test_scale r2: {r2_test_scale} test MSE: {mse_test_scale}')"
   ]
  },
  {
   "cell_type": "markdown",
   "metadata": {},
   "source": [
    "## Include dummy variables"
   ]
  },
  {
   "cell_type": "markdown",
   "metadata": {},
   "source": [
    "We haven't included dummy variables so far: let's use our \"object\" variables again and create dummies"
   ]
  },
  {
   "cell_type": "code",
   "execution_count": 24,
   "metadata": {},
   "outputs": [],
   "source": [
    "# Create X_cat which contains only the categorical variables\n",
    "features_cat=[]\n",
    "for col in df.columns:\n",
    "    if df[col].dtype==object:\n",
    "        features_cat.append(col)\n",
    "X_cat=df[features_cat]\n"
   ]
  },
  {
   "cell_type": "code",
   "execution_count": 25,
   "metadata": {},
   "outputs": [],
   "source": [
    "# Make dummies\n",
    "X_cat=pd.get_dummies(X_cat)"
   ]
  },
  {
   "cell_type": "code",
   "execution_count": 29,
   "metadata": {},
   "outputs": [
    {
     "data": {
      "text/plain": [
       "(1460, 252)"
      ]
     },
     "execution_count": 29,
     "metadata": {},
     "output_type": "execute_result"
    }
   ],
   "source": [
    "X_cat.shape"
   ]
  },
  {
   "cell_type": "markdown",
   "metadata": {},
   "source": [
    "Merge `x_cat` together with our scaled `X` so you have one big predictor dataframe."
   ]
  },
  {
   "cell_type": "code",
   "execution_count": 33,
   "metadata": {},
   "outputs": [],
   "source": [
    "# Your code here\n",
    "X_full=pd.concat([pd.DataFrame(X_scale),X_cat],axis=1)"
   ]
  },
  {
   "cell_type": "code",
   "execution_count": 34,
   "metadata": {},
   "outputs": [
    {
     "data": {
      "text/plain": [
       "(1460, 289)"
      ]
     },
     "execution_count": 34,
     "metadata": {},
     "output_type": "execute_result"
    }
   ],
   "source": [
    "X_full.shape"
   ]
  },
  {
   "cell_type": "markdown",
   "metadata": {},
   "source": [
    "Perform the same linear regression on this data and print out R-squared and MSE."
   ]
  },
  {
   "cell_type": "code",
   "execution_count": 35,
   "metadata": {},
   "outputs": [
    {
     "name": "stdout",
     "output_type": "stream",
     "text": [
      "train_full r2: 0.937541234618372 train MSE: 380866586.6255708\n",
      "test_full r2: -8.475927681607207e+19 test MSE: 5.876221024354903e+29\n"
     ]
    }
   ],
   "source": [
    "# Your code here\n",
    "X_train_full, X_test_full, y_train_full, y_test_full = train_test_split(X_full,y)\n",
    "\n",
    "# Fit the model and print R2 and MSE for train and test\n",
    "linreg_full=LinearRegression()\n",
    "linreg_full.fit(X_train_full,y_train_full)\n",
    "y_hat_train_full=linreg_full.predict(X_train_full)\n",
    "y_hat_test_full=linreg_full.predict(X_test_full)\n",
    "\n",
    "mse_train_full=mean_squared_error(y_train_full,y_hat_train_full)\n",
    "mse_test_full=mean_squared_error(y_test_full,y_hat_test_full)\n",
    "r2_train_full= linreg_full.score(X_train_full,y_train_full)\n",
    "r2_test_full=linreg_full.score(X_test_full,y_test_full)\n",
    "\n",
    "print(f'train_full r2: {r2_train_full} train MSE: {mse_train_full}')\n",
    "print(f'test_full r2: {r2_test_full} test MSE: {mse_test_full}')"
   ]
  },
  {
   "cell_type": "markdown",
   "metadata": {},
   "source": [
    "Notice the severe overfitting above; our training R squared is quite high, but the testing R squared is negative! Our predictions are far far off. Similarly, the scale of the Testing MSE is orders of magnitude higher then that of the training."
   ]
  },
  {
   "cell_type": "markdown",
   "metadata": {},
   "source": [
    "## Perform Ridge and Lasso regression"
   ]
  },
  {
   "cell_type": "markdown",
   "metadata": {},
   "source": [
    "Use all the data (normalized features and dummy categorical variables) and perform Lasso and Ridge regression for both! Each time, look at R-squared and MSE."
   ]
  },
  {
   "cell_type": "markdown",
   "metadata": {},
   "source": [
    "## Lasso"
   ]
  },
  {
   "cell_type": "markdown",
   "metadata": {},
   "source": [
    "With default parameter (alpha = 1)"
   ]
  },
  {
   "cell_type": "code",
   "execution_count": 38,
   "metadata": {},
   "outputs": [
    {
     "name": "stdout",
     "output_type": "stream",
     "text": [
      "train_lassol r2: 0.9353139089158753 train_lassol MSE: 394448570.3940632\n",
      "test_lassol r2: 0.8950681409863104 test_lassol MSE: 727475291.4644586\n"
     ]
    }
   ],
   "source": [
    "# Your code here\n",
    "from sklearn.linear_model import Ridge, Lasso\n",
    "lasso1=Lasso(alpha=1)\n",
    "lasso1.fit(X_train_full,y_train_full)\n",
    "\n",
    "y_hat_train_lasso1=lasso1.predict(X_train_full)\n",
    "y_hat_test_lasso1=lasso1.predict(X_test_full)\n",
    "\n",
    "mse_train_lasso1=mean_squared_error(y_train_full,y_hat_train_lasso1)\n",
    "mse_test_lasso1=mean_squared_error(y_test_full,y_hat_test_lasso1)\n",
    "r2_train_lasso1= lasso1.score(X_train_full,y_train_full)\n",
    "r2_test_lasso1=lasso1.score(X_test_full,y_test_full)\n",
    "\n",
    "print(f'train_lassol r2: {r2_train_lasso1} train_lassol MSE: {mse_train_lasso1}')\n",
    "print(f'test_lassol r2: {r2_test_lasso1} test_lassol MSE: {mse_test_lasso1}')"
   ]
  },
  {
   "cell_type": "markdown",
   "metadata": {},
   "source": [
    "With a higher regularization parameter (alpha = 10)"
   ]
  },
  {
   "cell_type": "code",
   "execution_count": 42,
   "metadata": {},
   "outputs": [
    {
     "name": "stdout",
     "output_type": "stream",
     "text": [
      "train_lassol r2: 0.9353139089158753 train_lassol MSE: 405281942.44206256\n",
      "test_lassol r2: 0.8950681409863104 test_lassol MSE: 686941966.6324319\n"
     ]
    }
   ],
   "source": [
    "lasso10=Lasso(alpha=10)\n",
    "lasso10.fit(X_train_full,y_train_full)\n",
    "\n",
    "y_hat_train_lasso10=lasso10.predict(X_train_full)\n",
    "y_hat_test_lasso10=lasso10.predict(X_test_full)\n",
    "\n",
    "mse_train_lasso10=mean_squared_error(y_train_full,y_hat_train_lasso10)\n",
    "mse_test_lasso10=mean_squared_error(y_test_full,y_hat_test_lasso10)\n",
    "r2_train_lasso10= lasso1.score(X_train_full,y_train_full)\n",
    "r2_test_lasso10=lasso1.score(X_test_full,y_test_full)\n",
    "\n",
    "print(f'train_lassol r2: {r2_train_lasso10} train_lassol MSE: {mse_train_lasso10}')\n",
    "print(f'test_lassol r2: {r2_test_lasso10} test_lassol MSE: {mse_test_lasso10}')"
   ]
  },
  {
   "cell_type": "markdown",
   "metadata": {},
   "source": [
    "## Ridge"
   ]
  },
  {
   "cell_type": "markdown",
   "metadata": {},
   "source": [
    "With default parameter (alpha = 1)"
   ]
  },
  {
   "cell_type": "code",
   "execution_count": 43,
   "metadata": {},
   "outputs": [
    {
     "name": "stdout",
     "output_type": "stream",
     "text": [
      "train_ridge1 r2: 0.9215871124215647 train_ridge1 MSE: 478153044.7644412\n",
      "test_ridge1 r2: 0.8897901639978179 test_ridge1 MSE: 764066636.4014179\n"
     ]
    }
   ],
   "source": [
    "# Your code here\n",
    "ridge1=Ridge(alpha=1)\n",
    "ridge1.fit(X_train_full,y_train_full)\n",
    "\n",
    "y_hat_train_ridge1=ridge1.predict(X_train_full)\n",
    "y_hat_test_ridge1=ridge1.predict(X_test_full)\n",
    "\n",
    "mse_train_ridge1=mean_squared_error(y_train_full,y_hat_train_ridge1)\n",
    "mse_test_ridge1=mean_squared_error(y_test_full,y_hat_test_ridge1)\n",
    "r2_train_ridge1= ridge1.score(X_train_full,y_train_full)\n",
    "r2_test_ridge1=ridge1.score(X_test_full,y_test_full)\n",
    "\n",
    "print(f'train_ridge1 r2: {r2_train_ridge1} train_ridge1 MSE: {mse_train_ridge1}')\n",
    "print(f'test_ridge1 r2: {r2_test_ridge1} test_ridge1 MSE: {mse_test_ridge1}')\n",
    "\n"
   ]
  },
  {
   "cell_type": "markdown",
   "metadata": {},
   "source": [
    "With default parameter (alpha = 10)"
   ]
  },
  {
   "cell_type": "code",
   "execution_count": 44,
   "metadata": {},
   "outputs": [
    {
     "name": "stdout",
     "output_type": "stream",
     "text": [
      "train_ridge10 r2: 0.8951833395377954 train_ridge10 MSE: 639160307.5694797\n",
      "test_ridge10 r2: 0.8911467981887014 test_ridge10 MSE: 754661315.0557346\n"
     ]
    }
   ],
   "source": [
    "# Your code here\n",
    "ridge10=Ridge(alpha=10)\n",
    "ridge10.fit(X_train_full,y_train_full)\n",
    "\n",
    "y_hat_train_ridge10=ridge10.predict(X_train_full)\n",
    "y_hat_test_ridge10=ridge10.predict(X_test_full)\n",
    "\n",
    "mse_train_ridge10=mean_squared_error(y_train_full,y_hat_train_ridge10)\n",
    "mse_test_ridge10=mean_squared_error(y_test_full,y_hat_test_ridge10)\n",
    "r2_train_ridge10= ridge10.score(X_train_full,y_train_full)\n",
    "r2_test_ridge10=ridge10.score(X_test_full,y_test_full)\n",
    "\n",
    "print(f'train_ridge10 r2: {r2_train_ridge10} train_ridge10 MSE: {mse_train_ridge10}')\n",
    "print(f'test_ridge10 r2: {r2_test_ridge10} test_ridge10 MSE: {mse_test_ridge10}')\n",
    "\n"
   ]
  },
  {
   "cell_type": "markdown",
   "metadata": {},
   "source": [
    "## Look at the metrics, what are your main conclusions?"
   ]
  },
  {
   "cell_type": "markdown",
   "metadata": {},
   "source": [
    "Conclusions here"
   ]
  },
  {
   "cell_type": "markdown",
   "metadata": {},
   "source": [
    "## Compare number of parameter estimates that are (very close to) 0 for Ridge and Lasso"
   ]
  },
  {
   "cell_type": "code",
   "execution_count": 47,
   "metadata": {},
   "outputs": [
    {
     "name": "stdout",
     "output_type": "stream",
     "text": [
      "5\n"
     ]
    }
   ],
   "source": [
    "# number of Ridge params almost zero\n",
    "print(sum(abs(ridge1.coef_) < 10**(-3)))"
   ]
  },
  {
   "cell_type": "code",
   "execution_count": 48,
   "metadata": {},
   "outputs": [
    {
     "name": "stdout",
     "output_type": "stream",
     "text": [
      "68\n"
     ]
    }
   ],
   "source": [
    "# number of Lasso params almost zero\n",
    "print(sum(abs(lasso10.coef_) < 10**(-3)))"
   ]
  },
  {
   "cell_type": "markdown",
   "metadata": {},
   "source": [
    "Compare with the total length of the parameter space and draw conclusions!"
   ]
  },
  {
   "cell_type": "code",
   "execution_count": 62,
   "metadata": {
    "scrolled": true
   },
   "outputs": [
    {
     "data": {
      "text/plain": [
       "[<matplotlib.lines.Line2D at 0xb4efa90>]"
      ]
     },
     "execution_count": 62,
     "metadata": {},
     "output_type": "execute_result"
    },
    {
     "data": {
      "image/png": "[encoded data removed]",
      "text/plain": [
       "<Figure size 432x288 with 1 Axes>"
      ]
     },
     "metadata": {
      "needs_background": "light"
     },
     "output_type": "display_data"
    }
   ],
   "source": [
    "## your code here\n",
    "r2_trains=[r2_train,r2_train_scale,r2_train_full,r2_train_lasso1,r2_train_lasso10,r2_train_ridge1,r2_test_ridge10]\n",
    "plt.plot(r2_trains)\n",
    "r2_tests=[r2_test,r2_test_scale,0.68,r2_test_lasso1,r2_test_lasso10,r2_test_ridge1,r2_test_ridge10]\n",
    "plt.plot(r2_tests,color='red')\n",
    "#full dummied at .68 - breaks scale otherwise"
   ]
  },
  {
   "cell_type": "code",
   "execution_count": 63,
   "metadata": {},
   "outputs": [
    {
     "data": {
      "text/plain": [
       "[<matplotlib.lines.Line2D at 0xb549fd0>]"
      ]
     },
     "execution_count": 63,
     "metadata": {},
     "output_type": "execute_result"
    },
    {
     "data": {
      "image/png": "[encoded data removed]",
      "text/plain": [
       "<Figure size 432x288 with 1 Axes>"
      ]
     },
     "metadata": {
      "needs_background": "light"
     },
     "output_type": "display_data"
    }
   ],
   "source": [
    "mse_tests=[mse_test,mse_test_scale,mse_test_lasso1,mse_test_lasso10,mse_test_ridge1,mse_test_ridge10]\n",
    "plt.plot(mse_tests, color='red')\n",
    "#'full' removed"
   ]
  },
  {
   "cell_type": "markdown",
   "metadata": {},
   "source": [
    "## Summary"
   ]
  },
  {
   "cell_type": "markdown",
   "metadata": {},
   "source": [
    "Great! You now know how to perform Lasso and Ridge regression."
   ]
  }
 ],
 "metadata": {
  "kernelspec": {
   "display_name": "Python 3",
   "language": "python",
   "name": "python3"
  },
  "language_info": {
   "codemirror_mode": {
    "name": "ipython",
    "version": 3
   },
   "file_extension": ".py",
   "mimetype": "text/x-python",
   "name": "python",
   "nbconvert_exporter": "python",
   "pygments_lexer": "ipython3",
   "version": "3.7.0"
  }
 },
 "nbformat": 4,
 "nbformat_minor": 2
}
